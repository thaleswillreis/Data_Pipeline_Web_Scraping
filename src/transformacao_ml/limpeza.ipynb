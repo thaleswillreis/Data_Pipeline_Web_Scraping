{
 "cells": [
  {
   "cell_type": "code",
   "execution_count": 76,
   "metadata": {},
   "outputs": [],
   "source": [
    "import pandas as pd\n",
    "import sqlite3\n",
    "import datetime as dt\n",
    "import sqlite3\n",
    "import warnings\n",
    "\n",
    "warnings.filterwarnings(\"ignore\")\n",
    "warnings.filterwarnings('ignore', category=DeprecationWarning)\n",
    "\n",
    "# Configuração para exibir todas as colunas\n",
    "pd.set_option('display.max_columns', None)\n",
    "pd.set_option('display.max_rows', 10)\n",
    "#"
   ]
  },
  {
   "cell_type": "code",
   "execution_count": 77,
   "metadata": {},
   "outputs": [
    {
     "data": {
      "text/html": [
       "<div>\n",
       "<style scoped>\n",
       "    .dataframe tbody tr th:only-of-type {\n",
       "        vertical-align: middle;\n",
       "    }\n",
       "\n",
       "    .dataframe tbody tr th {\n",
       "        vertical-align: top;\n",
       "    }\n",
       "\n",
       "    .dataframe thead th {\n",
       "        text-align: right;\n",
       "    }\n",
       "</style>\n",
       "<table border=\"1\" class=\"dataframe\">\n",
       "  <thead>\n",
       "    <tr style=\"text-align: right;\">\n",
       "      <th></th>\n",
       "      <th>produto</th>\n",
       "      <th>avaliação</th>\n",
       "      <th>avaliações_qtd</th>\n",
       "      <th>preco</th>\n",
       "      <th>preco_centavos</th>\n",
       "    </tr>\n",
       "  </thead>\n",
       "  <tbody>\n",
       "    <tr>\n",
       "      <th>0</th>\n",
       "      <td>Dvr Intelbras 8ch Mhdx 1008c inteligente multi...</td>\n",
       "      <td>4.80</td>\n",
       "      <td>(800)</td>\n",
       "      <td>52.00</td>\n",
       "      <td>NaN</td>\n",
       "    </tr>\n",
       "    <tr>\n",
       "      <th>1</th>\n",
       "      <td>Câmera de Video Wi-fi Hd Im1 Branca Intelbras</td>\n",
       "      <td>4.70</td>\n",
       "      <td>(756)</td>\n",
       "      <td>30.00</td>\n",
       "      <td>NaN</td>\n",
       "    </tr>\n",
       "    <tr>\n",
       "      <th>2</th>\n",
       "      <td>Câmera de segurança Intelbras VHL 1120 B 1000 ...</td>\n",
       "      <td>4.70</td>\n",
       "      <td>(3677)</td>\n",
       "      <td>9.00</td>\n",
       "      <td>NaN</td>\n",
       "    </tr>\n",
       "    <tr>\n",
       "      <th>3</th>\n",
       "      <td>Fechadura Digital De Embutir Ifr 3000 Preta In...</td>\n",
       "      <td>4.80</td>\n",
       "      <td>(139)</td>\n",
       "      <td>853.00</td>\n",
       "      <td>93.00</td>\n",
       "    </tr>\n",
       "    <tr>\n",
       "      <th>4</th>\n",
       "      <td>Câmera de segurança Intelbras iM3 com resoluçã...</td>\n",
       "      <td>NaN</td>\n",
       "      <td>None</td>\n",
       "      <td>225.00</td>\n",
       "      <td>90.00</td>\n",
       "    </tr>\n",
       "  </tbody>\n",
       "</table>\n",
       "</div>"
      ],
      "text/plain": [
       "                                             produto  avaliação  \\\n",
       "0  Dvr Intelbras 8ch Mhdx 1008c inteligente multi...       4.80   \n",
       "1      Câmera de Video Wi-fi Hd Im1 Branca Intelbras       4.70   \n",
       "2  Câmera de segurança Intelbras VHL 1120 B 1000 ...       4.70   \n",
       "3  Fechadura Digital De Embutir Ifr 3000 Preta In...       4.80   \n",
       "4  Câmera de segurança Intelbras iM3 com resoluçã...        NaN   \n",
       "\n",
       "  avaliações_qtd  preco  preco_centavos  \n",
       "0          (800)  52.00             NaN  \n",
       "1          (756)  30.00             NaN  \n",
       "2         (3677)   9.00             NaN  \n",
       "3          (139) 853.00           93.00  \n",
       "4           None 225.00           90.00  "
      ]
     },
     "execution_count": 77,
     "metadata": {},
     "output_type": "execute_result"
    }
   ],
   "source": [
    "df = pd.read_json('../../Dados/itensML.jsonl', lines=True)\n",
    "df.head(5)"
   ]
  },
  {
   "cell_type": "code",
   "execution_count": 78,
   "metadata": {},
   "outputs": [
    {
     "data": {
      "text/plain": [
       "(540, 5)"
      ]
     },
     "execution_count": 78,
     "metadata": {},
     "output_type": "execute_result"
    }
   ],
   "source": [
    "df.shape"
   ]
  },
  {
   "cell_type": "code",
   "execution_count": 79,
   "metadata": {},
   "outputs": [],
   "source": [
    "df['_source'] = \"https://lista.mercadolivre.com.br/intelbras\""
   ]
  },
  {
   "cell_type": "code",
   "execution_count": 80,
   "metadata": {},
   "outputs": [],
   "source": [
    "df['_data_coleta'] = dt.datetime.now()"
   ]
  },
  {
   "cell_type": "code",
   "execution_count": 81,
   "metadata": {},
   "outputs": [
    {
     "data": {
      "text/html": [
       "<div>\n",
       "<style scoped>\n",
       "    .dataframe tbody tr th:only-of-type {\n",
       "        vertical-align: middle;\n",
       "    }\n",
       "\n",
       "    .dataframe tbody tr th {\n",
       "        vertical-align: top;\n",
       "    }\n",
       "\n",
       "    .dataframe thead th {\n",
       "        text-align: right;\n",
       "    }\n",
       "</style>\n",
       "<table border=\"1\" class=\"dataframe\">\n",
       "  <thead>\n",
       "    <tr style=\"text-align: right;\">\n",
       "      <th></th>\n",
       "      <th>produto</th>\n",
       "      <th>avaliação</th>\n",
       "      <th>avaliações_qtd</th>\n",
       "      <th>preco</th>\n",
       "      <th>preco_centavos</th>\n",
       "      <th>_source</th>\n",
       "      <th>_data_coleta</th>\n",
       "    </tr>\n",
       "  </thead>\n",
       "  <tbody>\n",
       "    <tr>\n",
       "      <th>533</th>\n",
       "      <td>Video Porteiro Residencial Com Monofone Ivr 4 ...</td>\n",
       "      <td>5.00</td>\n",
       "      <td>(2)</td>\n",
       "      <td>58.00</td>\n",
       "      <td>NaN</td>\n",
       "      <td>https://lista.mercadolivre.com.br/intelbras</td>\n",
       "      <td>2024-07-26 19:58:29.586598</td>\n",
       "    </tr>\n",
       "    <tr>\n",
       "      <th>10</th>\n",
       "      <td>Fechadura Digital De Sobrepor Com Senha Fr 10 ...</td>\n",
       "      <td>4.90</td>\n",
       "      <td>(48)</td>\n",
       "      <td>288.00</td>\n",
       "      <td>81.00</td>\n",
       "      <td>https://lista.mercadolivre.com.br/intelbras</td>\n",
       "      <td>2024-07-26 19:58:29.586598</td>\n",
       "    </tr>\n",
       "    <tr>\n",
       "      <th>209</th>\n",
       "      <td>Central De Alarme De Incendio Com Bateria Da I...</td>\n",
       "      <td>NaN</td>\n",
       "      <td>None</td>\n",
       "      <td>44.00</td>\n",
       "      <td>NaN</td>\n",
       "      <td>https://lista.mercadolivre.com.br/intelbras</td>\n",
       "      <td>2024-07-26 19:58:29.586598</td>\n",
       "    </tr>\n",
       "    <tr>\n",
       "      <th>488</th>\n",
       "      <td>Suporte Capa Case Para Câmera Im7 Intelbras</td>\n",
       "      <td>4.60</td>\n",
       "      <td>(225)</td>\n",
       "      <td>31.00</td>\n",
       "      <td>NaN</td>\n",
       "      <td>https://lista.mercadolivre.com.br/intelbras</td>\n",
       "      <td>2024-07-26 19:58:29.586598</td>\n",
       "    </tr>\n",
       "    <tr>\n",
       "      <th>447</th>\n",
       "      <td>Cabo Programador Do Gravador Alarme Xg 2100 In...</td>\n",
       "      <td>5.00</td>\n",
       "      <td>(6)</td>\n",
       "      <td>3.00</td>\n",
       "      <td>19.00</td>\n",
       "      <td>https://lista.mercadolivre.com.br/intelbras</td>\n",
       "      <td>2024-07-26 19:58:29.586598</td>\n",
       "    </tr>\n",
       "  </tbody>\n",
       "</table>\n",
       "</div>"
      ],
      "text/plain": [
       "                                               produto  avaliação  \\\n",
       "533  Video Porteiro Residencial Com Monofone Ivr 4 ...       5.00   \n",
       "10   Fechadura Digital De Sobrepor Com Senha Fr 10 ...       4.90   \n",
       "209  Central De Alarme De Incendio Com Bateria Da I...        NaN   \n",
       "488        Suporte Capa Case Para Câmera Im7 Intelbras       4.60   \n",
       "447  Cabo Programador Do Gravador Alarme Xg 2100 In...       5.00   \n",
       "\n",
       "    avaliações_qtd  preco  preco_centavos  \\\n",
       "533            (2)  58.00             NaN   \n",
       "10            (48) 288.00           81.00   \n",
       "209           None  44.00             NaN   \n",
       "488          (225)  31.00             NaN   \n",
       "447            (6)   3.00           19.00   \n",
       "\n",
       "                                         _source               _data_coleta  \n",
       "533  https://lista.mercadolivre.com.br/intelbras 2024-07-26 19:58:29.586598  \n",
       "10   https://lista.mercadolivre.com.br/intelbras 2024-07-26 19:58:29.586598  \n",
       "209  https://lista.mercadolivre.com.br/intelbras 2024-07-26 19:58:29.586598  \n",
       "488  https://lista.mercadolivre.com.br/intelbras 2024-07-26 19:58:29.586598  \n",
       "447  https://lista.mercadolivre.com.br/intelbras 2024-07-26 19:58:29.586598  "
      ]
     },
     "execution_count": 81,
     "metadata": {},
     "output_type": "execute_result"
    }
   ],
   "source": [
    "df.sample(5)"
   ]
  },
  {
   "cell_type": "code",
   "execution_count": 82,
   "metadata": {},
   "outputs": [
    {
     "name": "stdout",
     "output_type": "stream",
     "text": [
      "<class 'pandas.core.frame.DataFrame'>\n",
      "RangeIndex: 540 entries, 0 to 539\n",
      "Data columns (total 7 columns):\n",
      " #   Column          Non-Null Count  Dtype         \n",
      "---  ------          --------------  -----         \n",
      " 0   produto         540 non-null    object        \n",
      " 1   avaliação       435 non-null    float64       \n",
      " 2   avaliações_qtd  435 non-null    object        \n",
      " 3   preco           519 non-null    float64       \n",
      " 4   preco_centavos  337 non-null    float64       \n",
      " 5   _source         540 non-null    object        \n",
      " 6   _data_coleta    540 non-null    datetime64[us]\n",
      "dtypes: datetime64[us](1), float64(3), object(3)\n",
      "memory usage: 29.7+ KB\n"
     ]
    }
   ],
   "source": [
    "df.info()"
   ]
  },
  {
   "cell_type": "code",
   "execution_count": 83,
   "metadata": {},
   "outputs": [],
   "source": [
    "# removendo os parênteses em avaliações_qtd\n",
    "df['avaliações_qtd'] = df['avaliações_qtd'].str.replace('[\\(\\)]','',regex=True)\n",
    "df['avaliações_qtd'] = df['avaliações_qtd'].fillna(0).astype(int)"
   ]
  },
  {
   "cell_type": "code",
   "execution_count": 84,
   "metadata": {},
   "outputs": [
    {
     "data": {
      "text/plain": [
       "produto             0\n",
       "avaliação         105\n",
       "avaliações_qtd      0\n",
       "preco              21\n",
       "preco_centavos    203\n",
       "_source             0\n",
       "_data_coleta        0\n",
       "dtype: int64"
      ]
     },
     "execution_count": 84,
     "metadata": {},
     "output_type": "execute_result"
    }
   ],
   "source": [
    "# verificando valores nulos\n",
    "df.isnull().sum()"
   ]
  },
  {
   "cell_type": "code",
   "execution_count": 85,
   "metadata": {},
   "outputs": [],
   "source": [
    "# tratando os valores nulos\n",
    "df['avaliação'] = df['avaliação'].fillna(0).astype(float)\n",
    "df['preco'] = df['preco'].fillna(0).astype(float)\n",
    "df['preco_centavos'] = df['preco_centavos'].fillna(0).astype(float)"
   ]
  },
  {
   "cell_type": "code",
   "execution_count": 86,
   "metadata": {},
   "outputs": [
    {
     "data": {
      "text/plain": [
       "produto           0\n",
       "avaliação         0\n",
       "avaliações_qtd    0\n",
       "preco             0\n",
       "preco_centavos    0\n",
       "_source           0\n",
       "_data_coleta      0\n",
       "dtype: int64"
      ]
     },
     "execution_count": 86,
     "metadata": {},
     "output_type": "execute_result"
    }
   ],
   "source": [
    "df.isnull().sum()"
   ]
  },
  {
   "cell_type": "code",
   "execution_count": 87,
   "metadata": {},
   "outputs": [
    {
     "data": {
      "text/html": [
       "<div>\n",
       "<style scoped>\n",
       "    .dataframe tbody tr th:only-of-type {\n",
       "        vertical-align: middle;\n",
       "    }\n",
       "\n",
       "    .dataframe tbody tr th {\n",
       "        vertical-align: top;\n",
       "    }\n",
       "\n",
       "    .dataframe thead th {\n",
       "        text-align: right;\n",
       "    }\n",
       "</style>\n",
       "<table border=\"1\" class=\"dataframe\">\n",
       "  <thead>\n",
       "    <tr style=\"text-align: right;\">\n",
       "      <th></th>\n",
       "      <th>produto</th>\n",
       "      <th>avaliação</th>\n",
       "      <th>avaliações_qtd</th>\n",
       "      <th>preco</th>\n",
       "      <th>preco_centavos</th>\n",
       "      <th>_source</th>\n",
       "      <th>_data_coleta</th>\n",
       "    </tr>\n",
       "  </thead>\n",
       "  <tbody>\n",
       "    <tr>\n",
       "      <th>0</th>\n",
       "      <td>Dvr Intelbras 8ch Mhdx 1008c inteligente multi...</td>\n",
       "      <td>4.80</td>\n",
       "      <td>800</td>\n",
       "      <td>52.00</td>\n",
       "      <td>0.00</td>\n",
       "      <td>https://lista.mercadolivre.com.br/intelbras</td>\n",
       "      <td>2024-07-26 19:58:29.586598</td>\n",
       "    </tr>\n",
       "    <tr>\n",
       "      <th>1</th>\n",
       "      <td>Câmera de Video Wi-fi Hd Im1 Branca Intelbras</td>\n",
       "      <td>4.70</td>\n",
       "      <td>756</td>\n",
       "      <td>30.00</td>\n",
       "      <td>0.00</td>\n",
       "      <td>https://lista.mercadolivre.com.br/intelbras</td>\n",
       "      <td>2024-07-26 19:58:29.586598</td>\n",
       "    </tr>\n",
       "    <tr>\n",
       "      <th>2</th>\n",
       "      <td>Câmera de segurança Intelbras VHL 1120 B 1000 ...</td>\n",
       "      <td>4.70</td>\n",
       "      <td>3677</td>\n",
       "      <td>9.00</td>\n",
       "      <td>0.00</td>\n",
       "      <td>https://lista.mercadolivre.com.br/intelbras</td>\n",
       "      <td>2024-07-26 19:58:29.586598</td>\n",
       "    </tr>\n",
       "    <tr>\n",
       "      <th>3</th>\n",
       "      <td>Fechadura Digital De Embutir Ifr 3000 Preta In...</td>\n",
       "      <td>4.80</td>\n",
       "      <td>139</td>\n",
       "      <td>853.00</td>\n",
       "      <td>93.00</td>\n",
       "      <td>https://lista.mercadolivre.com.br/intelbras</td>\n",
       "      <td>2024-07-26 19:58:29.586598</td>\n",
       "    </tr>\n",
       "    <tr>\n",
       "      <th>4</th>\n",
       "      <td>Câmera de segurança Intelbras iM3 com resoluçã...</td>\n",
       "      <td>0.00</td>\n",
       "      <td>0</td>\n",
       "      <td>225.00</td>\n",
       "      <td>90.00</td>\n",
       "      <td>https://lista.mercadolivre.com.br/intelbras</td>\n",
       "      <td>2024-07-26 19:58:29.586598</td>\n",
       "    </tr>\n",
       "  </tbody>\n",
       "</table>\n",
       "</div>"
      ],
      "text/plain": [
       "                                             produto  avaliação  \\\n",
       "0  Dvr Intelbras 8ch Mhdx 1008c inteligente multi...       4.80   \n",
       "1      Câmera de Video Wi-fi Hd Im1 Branca Intelbras       4.70   \n",
       "2  Câmera de segurança Intelbras VHL 1120 B 1000 ...       4.70   \n",
       "3  Fechadura Digital De Embutir Ifr 3000 Preta In...       4.80   \n",
       "4  Câmera de segurança Intelbras iM3 com resoluçã...       0.00   \n",
       "\n",
       "   avaliações_qtd  preco  preco_centavos  \\\n",
       "0             800  52.00            0.00   \n",
       "1             756  30.00            0.00   \n",
       "2            3677   9.00            0.00   \n",
       "3             139 853.00           93.00   \n",
       "4               0 225.00           90.00   \n",
       "\n",
       "                                       _source               _data_coleta  \n",
       "0  https://lista.mercadolivre.com.br/intelbras 2024-07-26 19:58:29.586598  \n",
       "1  https://lista.mercadolivre.com.br/intelbras 2024-07-26 19:58:29.586598  \n",
       "2  https://lista.mercadolivre.com.br/intelbras 2024-07-26 19:58:29.586598  \n",
       "3  https://lista.mercadolivre.com.br/intelbras 2024-07-26 19:58:29.586598  \n",
       "4  https://lista.mercadolivre.com.br/intelbras 2024-07-26 19:58:29.586598  "
      ]
     },
     "execution_count": 87,
     "metadata": {},
     "output_type": "execute_result"
    }
   ],
   "source": [
    "df.head(5)"
   ]
  },
  {
   "cell_type": "code",
   "execution_count": 88,
   "metadata": {},
   "outputs": [
    {
     "name": "stdout",
     "output_type": "stream",
     "text": [
      "<class 'pandas.core.frame.DataFrame'>\n",
      "RangeIndex: 540 entries, 0 to 539\n",
      "Data columns (total 7 columns):\n",
      " #   Column          Non-Null Count  Dtype         \n",
      "---  ------          --------------  -----         \n",
      " 0   produto         540 non-null    object        \n",
      " 1   avaliação       540 non-null    float64       \n",
      " 2   avaliações_qtd  540 non-null    int64         \n",
      " 3   preco           540 non-null    float64       \n",
      " 4   preco_centavos  540 non-null    float64       \n",
      " 5   _source         540 non-null    object        \n",
      " 6   _data_coleta    540 non-null    datetime64[us]\n",
      "dtypes: datetime64[us](1), float64(3), int64(1), object(2)\n",
      "memory usage: 29.7+ KB\n"
     ]
    }
   ],
   "source": [
    "df.info()"
   ]
  },
  {
   "cell_type": "code",
   "execution_count": 89,
   "metadata": {},
   "outputs": [],
   "source": [
    "# juntar os valores em 'preco' e 'preco_centavos'\n",
    "df['preco_produto'] = df['preco'] + df['preco_centavos'] / 100\n",
    "\n",
    "# removendo 'preco' e 'preco_centavos'\n",
    "df.drop('preco_centavos', axis=1, inplace=True)\n",
    "df.drop('preco', axis=1, inplace=True)"
   ]
  },
  {
   "cell_type": "code",
   "execution_count": 90,
   "metadata": {},
   "outputs": [
    {
     "data": {
      "text/html": [
       "<div>\n",
       "<style scoped>\n",
       "    .dataframe tbody tr th:only-of-type {\n",
       "        vertical-align: middle;\n",
       "    }\n",
       "\n",
       "    .dataframe tbody tr th {\n",
       "        vertical-align: top;\n",
       "    }\n",
       "\n",
       "    .dataframe thead th {\n",
       "        text-align: right;\n",
       "    }\n",
       "</style>\n",
       "<table border=\"1\" class=\"dataframe\">\n",
       "  <thead>\n",
       "    <tr style=\"text-align: right;\">\n",
       "      <th></th>\n",
       "      <th>produto</th>\n",
       "      <th>avaliação</th>\n",
       "      <th>avaliações_qtd</th>\n",
       "      <th>_source</th>\n",
       "      <th>_data_coleta</th>\n",
       "      <th>preco_produto</th>\n",
       "    </tr>\n",
       "  </thead>\n",
       "  <tbody>\n",
       "    <tr>\n",
       "      <th>0</th>\n",
       "      <td>Dvr Intelbras 8ch Mhdx 1008c inteligente multi...</td>\n",
       "      <td>4.80</td>\n",
       "      <td>800</td>\n",
       "      <td>https://lista.mercadolivre.com.br/intelbras</td>\n",
       "      <td>2024-07-26 19:58:29.586598</td>\n",
       "      <td>52.00</td>\n",
       "    </tr>\n",
       "    <tr>\n",
       "      <th>1</th>\n",
       "      <td>Câmera de Video Wi-fi Hd Im1 Branca Intelbras</td>\n",
       "      <td>4.70</td>\n",
       "      <td>756</td>\n",
       "      <td>https://lista.mercadolivre.com.br/intelbras</td>\n",
       "      <td>2024-07-26 19:58:29.586598</td>\n",
       "      <td>30.00</td>\n",
       "    </tr>\n",
       "    <tr>\n",
       "      <th>2</th>\n",
       "      <td>Câmera de segurança Intelbras VHL 1120 B 1000 ...</td>\n",
       "      <td>4.70</td>\n",
       "      <td>3677</td>\n",
       "      <td>https://lista.mercadolivre.com.br/intelbras</td>\n",
       "      <td>2024-07-26 19:58:29.586598</td>\n",
       "      <td>9.00</td>\n",
       "    </tr>\n",
       "    <tr>\n",
       "      <th>3</th>\n",
       "      <td>Fechadura Digital De Embutir Ifr 3000 Preta In...</td>\n",
       "      <td>4.80</td>\n",
       "      <td>139</td>\n",
       "      <td>https://lista.mercadolivre.com.br/intelbras</td>\n",
       "      <td>2024-07-26 19:58:29.586598</td>\n",
       "      <td>853.93</td>\n",
       "    </tr>\n",
       "    <tr>\n",
       "      <th>4</th>\n",
       "      <td>Câmera de segurança Intelbras iM3 com resoluçã...</td>\n",
       "      <td>0.00</td>\n",
       "      <td>0</td>\n",
       "      <td>https://lista.mercadolivre.com.br/intelbras</td>\n",
       "      <td>2024-07-26 19:58:29.586598</td>\n",
       "      <td>225.90</td>\n",
       "    </tr>\n",
       "  </tbody>\n",
       "</table>\n",
       "</div>"
      ],
      "text/plain": [
       "                                             produto  avaliação  \\\n",
       "0  Dvr Intelbras 8ch Mhdx 1008c inteligente multi...       4.80   \n",
       "1      Câmera de Video Wi-fi Hd Im1 Branca Intelbras       4.70   \n",
       "2  Câmera de segurança Intelbras VHL 1120 B 1000 ...       4.70   \n",
       "3  Fechadura Digital De Embutir Ifr 3000 Preta In...       4.80   \n",
       "4  Câmera de segurança Intelbras iM3 com resoluçã...       0.00   \n",
       "\n",
       "   avaliações_qtd                                      _source  \\\n",
       "0             800  https://lista.mercadolivre.com.br/intelbras   \n",
       "1             756  https://lista.mercadolivre.com.br/intelbras   \n",
       "2            3677  https://lista.mercadolivre.com.br/intelbras   \n",
       "3             139  https://lista.mercadolivre.com.br/intelbras   \n",
       "4               0  https://lista.mercadolivre.com.br/intelbras   \n",
       "\n",
       "                _data_coleta  preco_produto  \n",
       "0 2024-07-26 19:58:29.586598          52.00  \n",
       "1 2024-07-26 19:58:29.586598          30.00  \n",
       "2 2024-07-26 19:58:29.586598           9.00  \n",
       "3 2024-07-26 19:58:29.586598         853.93  \n",
       "4 2024-07-26 19:58:29.586598         225.90  "
      ]
     },
     "execution_count": 90,
     "metadata": {},
     "output_type": "execute_result"
    }
   ],
   "source": [
    "df.head(5)"
   ]
  },
  {
   "cell_type": "code",
   "execution_count": 91,
   "metadata": {},
   "outputs": [],
   "source": [
    "# conectando ao banco de dados SQLite3\n",
    "con = sqlite3.connect('../../Dados/scrp_ml.db')\n",
    "df.to_sql('prod_mercado_livre', con=con, if_exists='replace', index=False)\n",
    "con.close()"
   ]
  }
 ],
 "metadata": {
  "kernelspec": {
   "display_name": ".venv",
   "language": "python",
   "name": "python3"
  },
  "language_info": {
   "codemirror_mode": {
    "name": "ipython",
    "version": 3
   },
   "file_extension": ".py",
   "mimetype": "text/x-python",
   "name": "python",
   "nbconvert_exporter": "python",
   "pygments_lexer": "ipython3",
   "version": "3.12.4"
  }
 },
 "nbformat": 4,
 "nbformat_minor": 2
}
